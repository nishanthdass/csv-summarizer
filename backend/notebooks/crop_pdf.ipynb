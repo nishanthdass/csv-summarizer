{
 "cells": [
  {
   "cell_type": "code",
   "execution_count": 1,
   "id": "cc94b05e-00e0-44e5-8b4f-0cd843d15300",
   "metadata": {},
   "outputs": [
    {
     "name": "stdout",
     "output_type": "stream",
     "text": [
      "[0]\n",
      "Pages removed, new PDF saved to sightseeing_pass_sites_single_pg.pdf\n"
     ]
    }
   ],
   "source": [
    "from PyPDF2 import PdfReader, PdfWriter\n",
    "\n",
    "def remove_pdf_pages(input_pdf_path, output_pdf_path, pages_to_keep):\n",
    "    reader = PdfReader(input_pdf_path)\n",
    "    writer = PdfWriter()\n",
    "    for page_num in range(len(reader.pages)):\n",
    "        if page_num in pages_to_keep:\n",
    "            writer.add_page(reader.pages[page_num])\n",
    "    with open(output_pdf_path, 'wb') as output_pdf_file:\n",
    "        writer.write(output_pdf_file)\n",
    "\n",
    "if __name__ == \"__main__\":\n",
    "    input_pdf_path = \"sightseeing_pass_sites.pdf\"\n",
    "    output_pdf_path = \"sightseeing_pass_sites_single_pg.pdf\"\n",
    "    pages_to_keep = [i for i in range(0, 1)]\n",
    "    print(pages_to_keep)\n",
    "    remove_pdf_pages(input_pdf_path, output_pdf_path, pages_to_keep)\n",
    "    print(f\"Pages removed, new PDF saved to {output_pdf_path}\")"
   ]
  },
  {
   "cell_type": "code",
   "execution_count": null,
   "id": "1f687664-83d6-44dd-84cb-b9a2a8efec03",
   "metadata": {},
   "outputs": [],
   "source": []
  }
 ],
 "metadata": {
  "kernelspec": {
   "display_name": "GenAI VS Code Env (.venv)",
   "language": "python",
   "name": ".venv"
  },
  "language_info": {
   "codemirror_mode": {
    "name": "ipython",
    "version": 3
   },
   "file_extension": ".py",
   "mimetype": "text/x-python",
   "name": "python",
   "nbconvert_exporter": "python",
   "pygments_lexer": "ipython3",
   "version": "3.13.1"
  }
 },
 "nbformat": 4,
 "nbformat_minor": 5
}
