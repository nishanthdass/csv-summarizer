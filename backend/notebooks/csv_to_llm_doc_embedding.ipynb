{
 "cells": [
  {
   "cell_type": "code",
   "execution_count": 2,
   "id": "8259418b-968e-4eae-95c8-f46ee5d617a9",
   "metadata": {},
   "outputs": [
    {
     "data": {
      "text/html": [
       "<pre style=\"white-space:pre;overflow-x:auto;line-height:normal;font-family:Menlo,'DejaVu Sans Mono',consolas,'Courier New',monospace\"><span style=\"font-weight: bold\">[</span><span style=\"color: #008000; text-decoration-color: #008000\">'id'</span>, <span style=\"color: #008000; text-decoration-color: #008000\">'name'</span>, <span style=\"color: #008000; text-decoration-color: #008000\">'rating'</span>, <span style=\"color: #008000; text-decoration-color: #008000\">'rating_count'</span>, <span style=\"color: #008000; text-decoration-color: #008000\">'price_category'</span>, <span style=\"color: #008000; text-decoration-color: #008000\">'address'</span>, <span style=\"color: #008000; text-decoration-color: #008000\">'zipcode'</span><span style=\"font-weight: bold\">]</span>\n",
       "</pre>\n"
      ],
      "text/plain": [
       "\u001b[1m[\u001b[0m\u001b[32m'id'\u001b[0m, \u001b[32m'name'\u001b[0m, \u001b[32m'rating'\u001b[0m, \u001b[32m'rating_count'\u001b[0m, \u001b[32m'price_category'\u001b[0m, \u001b[32m'address'\u001b[0m, \u001b[32m'zipcode'\u001b[0m\u001b[1m]\u001b[0m\n"
      ]
     },
     "metadata": {},
     "output_type": "display_data"
    },
    {
     "data": {
      "text/html": [
       "<pre style=\"white-space:pre;overflow-x:auto;line-height:normal;font-family:Menlo,'DejaVu Sans Mono',consolas,'Courier New',monospace\">postgresql+psycopg2:<span style=\"color: #800080; text-decoration-color: #800080\">//</span><span style=\"color: #ff00ff; text-decoration-color: #ff00ff\">postgres</span>:postgres@localhost:<span style=\"color: #008080; text-decoration-color: #008080; font-weight: bold\">5432</span>/csv_db\n",
       "</pre>\n"
      ],
      "text/plain": [
       "postgresql+psycopg2:\u001b[35m/\u001b[0m\u001b[35m/\u001b[0m\u001b[95mpostgres\u001b[0m:postgres@localhost:\u001b[1;36m5432\u001b[0m/csv_db\n"
      ]
     },
     "metadata": {},
     "output_type": "display_data"
    }
   ],
   "source": [
    "from csv_to_llm_doc_embedding import get_langchain_doc\n",
    "from langchain_core.documents import Document\n",
    "from langchain_postgres import PGVector\n",
    "from langchain_openai import OpenAIEmbeddings\n",
    "from rich import print as rprint\n",
    "from credentials import *\n",
    "\n",
    "\n",
    "def create_embeddings_via_langchain(table_name: str):\n",
    "    docs = get_langchain_doc(table_name)\n",
    "\n",
    "    collection_name = table_name + \"_collection\"\n",
    "    \n",
    "    embeddings = OpenAIEmbeddings(\n",
    "        openai_api_key=OPENAI_API_KEY,\n",
    "        openai_api_base=OPENAI_BASE_URL,\n",
    "        model=OPENAI_EMB_MODEL_SMALL,\n",
    "        dimensions=512\n",
    "        )\n",
    "\n",
    "    vector_store = PGVector(\n",
    "        embeddings=embeddings,\n",
    "        collection_name=collection_name,\n",
    "        connection=db_url,\n",
    "    )\n",
    "\n",
    "    id_str = str(table_name) + \"_id\"\n",
    "\n",
    "    vector_store.add_documents(docs, ids=[doc.metadata[id_str] for doc in docs])\n",
    "\n",
    "\n",
    "create_embeddings_via_langchain(\"google_maps_restaurants_shortened_2\")"
   ]
  },
  {
   "cell_type": "code",
   "execution_count": null,
   "id": "4b04c3aa-5b4d-4a09-864d-d616861d77c6",
   "metadata": {},
   "outputs": [],
   "source": []
  }
 ],
 "metadata": {
  "kernelspec": {
   "display_name": "GenAI VS Code Env (.venv)",
   "language": "python",
   "name": ".venv"
  },
  "language_info": {
   "codemirror_mode": {
    "name": "ipython",
    "version": 3
   },
   "file_extension": ".py",
   "mimetype": "text/x-python",
   "name": "python",
   "nbconvert_exporter": "python",
   "pygments_lexer": "ipython3",
   "version": "3.13.1"
  }
 },
 "nbformat": 4,
 "nbformat_minor": 5
}
