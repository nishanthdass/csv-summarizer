{
 "cells": [
  {
   "cell_type": "code",
   "execution_count": 1,
   "id": "66d3a8d4-ebfb-4232-9b2c-b1a8b3c5fff9",
   "metadata": {
    "scrolled": true
   },
   "outputs": [
    {
     "name": "stdout",
     "output_type": "stream",
     "text": [
      "Processing pdf_files/sightseeing_pass_sites.pdf...\n",
      "[========================================]\n",
      "Processing pdf_files/sightseeing_pass_sites.pdf...\n",
      "[========================================]\n",
      "Processing pdf_files/sightseeing_pass_sites.pdf...\n",
      "[========================================]\n",
      "Processing pdf_files/sightseeing_pass_sites.pdf...\n",
      "[========================================]\n",
      "Processing pdf_files/sightseeing_pass_sites.pdf...\n",
      "[========================================]\n",
      "Processing pdf_files/sightseeing_pass_sites.pdf...\n",
      "[========================================]\n",
      "Processing pdf_files/sightseeing_pass_sites.pdf...\n",
      "[========================================]\n",
      "Processing pdf_files/sightseeing_pass_sites.pdf...\n",
      "[========================================]\n",
      "Processing pdf_files/sightseeing_pass_sites.pdf...\n",
      "[========================================]\n",
      "Processing pdf_files/sightseeing_pass_sites.pdf...\n",
      "[========================================]\n",
      "Processing pdf_files/sightseeing_pass_sites.pdf...\n",
      "[========================================]\n",
      "Processing pdf_files/sightseeing_pass_sites.pdf...\n",
      "[========================================]\n",
      "Processing pdf_files/sightseeing_pass_sites.pdf...\n",
      "[========================================]\n",
      "Processing pdf_files/sightseeing_pass_sites.pdf...\n",
      "[========================================]\n",
      "Processing pdf_files/sightseeing_pass_sites.pdf...\n",
      "[========================================]\n",
      "Created 244 nodes\n"
     ]
    }
   ],
   "source": [
    "from rich import print as rprint\n",
    "from pdf_to_llm_doc import process_pdf\n",
    "from llm_doc_to_kg import process_pdf_to_kg\n",
    "import pymupdf\n",
    "\n",
    "\n",
    "complete_path = \"pdf_files/sightseeing_pass_sites.pdf\"\n",
    "\n",
    "pdf_file = pymupdf.open(complete_path, filetype=\"pdf\")\n",
    "page_nums = None\n",
    "\n",
    "llm_ready_doc = process_pdf(pdf_file, complete_path, page_nums)\n",
    "\n",
    "\n",
    "process_pdf_to_kg(llm_ready_doc, \"sightseeing_pass_sites\")\n"
   ]
  },
  {
   "cell_type": "code",
   "execution_count": null,
   "id": "670696ba-29ee-40f9-bd77-bab484de33f1",
   "metadata": {},
   "outputs": [],
   "source": []
  }
 ],
 "metadata": {
  "kernelspec": {
   "display_name": "GenAI VS Code Env (.venv)",
   "language": "python",
   "name": ".venv"
  },
  "language_info": {
   "codemirror_mode": {
    "name": "ipython",
    "version": 3
   },
   "file_extension": ".py",
   "mimetype": "text/x-python",
   "name": "python",
   "nbconvert_exporter": "python",
   "pygments_lexer": "ipython3",
   "version": "3.13.1"
  }
 },
 "nbformat": 4,
 "nbformat_minor": 5
}
